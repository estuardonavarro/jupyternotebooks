{
 "cells": [
  {
   "cell_type": "markdown",
   "metadata": {},
   "source": [
    "\n",
    "<div align=left>\n",
    "    \n",
    "<img src=\"images/logo.jfif\" alt=\"Italian Trulli\">\n",
    "<h4 align=right>April 10, 2020</h4>\n",
    "</div>"
   ]
  },
  {
   "cell_type": "code",
   "execution_count": null,
   "metadata": {},
   "outputs": [],
   "source": [
    "\n",
    "\n",
    "\n",
    "\n",
    "\n",
    "\n",
    "\n"
   ]
  },
  {
   "cell_type": "markdown",
   "metadata": {},
   "source": [
    "<h1 align=center>IBM Data Science Professional Certification Capstone project</h1>"
   ]
  },
  {
   "cell_type": "markdown",
   "metadata": {},
   "source": [
    "<h2 align=center> Guatemala shopping mall classification</h2>"
   ]
  },
  {
   "cell_type": "code",
   "execution_count": null,
   "metadata": {},
   "outputs": [],
   "source": [
    "\n",
    "\n",
    "\n",
    "\n",
    "\n",
    "\n",
    "\n",
    "\n",
    "\n",
    "\n",
    "\n",
    "\n",
    "\n",
    "\n",
    "\n"
   ]
  },
  {
   "cell_type": "markdown",
   "metadata": {},
   "source": [
    "<h4 align=right>Solution developed by Javier Navarro:</h4>\n",
    "<h4 align=right>javierestuardonavarro@gmail.com</h4>\n"
   ]
  },
  {
   "cell_type": "markdown",
   "metadata": {},
   "source": [
    "\n",
    "\n",
    "\n",
    "\n",
    "\n"
   ]
  },
  {
   "cell_type": "markdown",
   "metadata": {},
   "source": [
    "## Introduction\n",
    "\n",
    "Given the current situation of the Covid-19 health emergency in the Guatemalan territory, problems are experienced regarding the supply of basic supplies, one of these problems is the high crowding of people in supermarkets, even though quarantine is in force, this implies great risks for containment of the outbreak, but not in all supermarkets crowds are observed, that is why as a data scientist I have the objective of making a classification by municipalities (regions) in relation to the provision of supermarkets, this to provide a broad paronama for the Correct distribution of citizens, that is, after carrying out the analysis, the areas with the least amount of supermarkets can be identified, which implies a greater probability of crowding.\n"
   ]
  },
  {
   "cell_type": "markdown",
   "metadata": {},
   "source": [
    "## Table of Contents\n",
    "\n",
    "1. <a href=\"#Data\">Data</a>  \n",
    "2. <a href=\"#item2\">Methodology</a>  \n",
    "3. <a href=\"#item3\">Results</a>  \n",
    "4. <a href=\"#item4\">Discussion</a>  \n",
    "5. <a href=\"#item5\">Conclusions</a>  "
   ]
  },
  {
   "cell_type": "markdown",
   "metadata": {},
   "source": [
    "## Data"
   ]
  },
  {
   "cell_type": "markdown",
   "metadata": {},
   "source": [
    "The data to be used is the distribution of municipalities in the department of Guatemala, information provided by the site: https://www.geodatos.net/coordines/guatemala basically it is the triplet <city, latitude, longitude> this data will be preprocessed for validate its integrity and later it will be transformed in such a way that it can allow obtaining information about the nearby supermarkets using the Foursquare API. An example of data provided for a site is the following:\n"
   ]
  },
  {
   "cell_type": "markdown",
   "metadata": {},
   "source": [
    "![alt text](images/data.PNG)\n"
   ]
  },
  {
   "cell_type": "markdown",
   "metadata": {},
   "source": [
    "## Methodology"
   ]
  },
  {
   "cell_type": "markdown",
   "metadata": {},
   "source": []
  },
  {
   "cell_type": "code",
   "execution_count": null,
   "metadata": {},
   "outputs": [],
   "source": []
  }
 ],
 "metadata": {
  "kernelspec": {
   "display_name": "Python 3",
   "language": "python",
   "name": "python3"
  },
  "language_info": {
   "codemirror_mode": {
    "name": "ipython",
    "version": 3
   },
   "file_extension": ".py",
   "mimetype": "text/x-python",
   "name": "python",
   "nbconvert_exporter": "python",
   "pygments_lexer": "ipython3",
   "version": "3.8.2"
  }
 },
 "nbformat": 4,
 "nbformat_minor": 4
}
